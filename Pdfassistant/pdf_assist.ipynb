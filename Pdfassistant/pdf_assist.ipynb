{
 "cells": [
  {
   "cell_type": "code",
   "execution_count": 2,
   "metadata": {},
   "outputs": [],
   "source": [
    "import typer \n",
    "from typing import Optional,List \n",
    "from phi.assistant import Assistant\n",
    "from phi.storage.assistant.postgres import PgAssistantStorage\n",
    "from phi.knowledge.pdf import PDFUrlKnowledgeBase\n",
    "from phi.vectordb.pgvector import PgVector2\n",
    "import os \n",
    "from dotenv import load_dotenv"
   ]
  },
  {
   "cell_type": "code",
   "execution_count": null,
   "metadata": {},
   "outputs": [],
   "source": [
    "os.environ[\"GROQ_API_KEY\"] = \"\""
   ]
  },
  {
   "cell_type": "code",
   "execution_count": null,
   "metadata": {},
   "outputs": [],
   "source": [
    "db_url = \"postgresql+psycopg://ai:ai@localhost:5532/ai\""
   ]
  },
  {
   "cell_type": "code",
   "execution_count": null,
   "metadata": {},
   "outputs": [],
   "source": [
    "knowledge_base = PDFUrlKnowledgeBase(\n",
    "    urls = [\"https://phi-public.s3.amazonaws.com/recipes/ThaiRecipes.pdf\"],\n",
    "    vector_db = PgVector2(collection=\"recipes\",db_url=db_url)\n",
    ")"
   ]
  },
  {
   "cell_type": "code",
   "execution_count": null,
   "metadata": {},
   "outputs": [],
   "source": [
    "knowledge_base.load()"
   ]
  },
  {
   "cell_type": "code",
   "execution_count": null,
   "metadata": {},
   "outputs": [],
   "source": [
    "storage = PgAssistantStorage(table_name=\"pdf_assistant\",db_url=db_url)\n",
    "\n"
   ]
  },
  {
   "cell_type": "code",
   "execution_count": null,
   "metadata": {},
   "outputs": [],
   "source": [
    "def pdf_assistant(new=False,user=\"user\"):\n",
    "    run_id = Optional[str] = None\n",
    "    if not new:\n",
    "        existing_run_ids : List[str] = storage.get_all_run_ids(user)\n",
    "        if len(existing_run_ids)>0:\n",
    "            run_id = existing_run_ids[0]\n",
    "\n",
    "    assistant = Assistant(\n",
    "        run_id=run_id,\n",
    "        user_id= user,\n",
    "        knowledge_base=knowledge_base,\n",
    "        storage=storage,\n",
    "        show_tool_calls=True,\n",
    "        search_knowledge=True,\n",
    "        read_chat_history=True\n",
    "\n",
    "    )\n",
    "    if run_id is None:\n",
    "        run_id = assistant.run_id\n",
    "        print(f\"Started_run:{run_id}\")\n",
    "    else:\n",
    "        print(f\"Continuing_run:{run_id}\")\n",
    "\n",
    "    assistant.cli_app(markdown=True)\n",
    "\n"
   ]
  },
  {
   "cell_type": "code",
   "execution_count": null,
   "metadata": {},
   "outputs": [],
   "source": [
    "typer.run(pdf_assistant)"
   ]
  },
  {
   "cell_type": "code",
   "execution_count": null,
   "metadata": {},
   "outputs": [],
   "source": []
  }
 ],
 "metadata": {
  "kernelspec": {
   "display_name": "idk_gpu",
   "language": "python",
   "name": "python3"
  },
  "language_info": {
   "codemirror_mode": {
    "name": "ipython",
    "version": 3
   },
   "file_extension": ".py",
   "mimetype": "text/x-python",
   "name": "python",
   "nbconvert_exporter": "python",
   "pygments_lexer": "ipython3",
   "version": "3.10.14"
  }
 },
 "nbformat": 4,
 "nbformat_minor": 2
}
